{
 "cells": [
  {
   "cell_type": "markdown",
   "id": "ede3aee9",
   "metadata": {},
   "source": [
    "# Pré-processamento apenas os dados do datatran (acidentes em rodovias federais)\n",
    "## Dados dos acidente de (2007-2025)"
   ]
  },
  {
   "cell_type": "code",
   "execution_count": 2,
   "id": "611941ac",
   "metadata": {},
   "outputs": [
    {
     "name": "stderr",
     "output_type": "stream",
     "text": [
      "C:\\Users\\alexa\\AppData\\Local\\Temp\\ipykernel_2020\\3964816871.py:14: DtypeWarning: Columns (5,6) have mixed types. Specify dtype option on import or set low_memory=False.\n",
      "  df = pd.read_csv(caminho_completo, encoding='latin1',sep=';')\n",
      "C:\\Users\\alexa\\AppData\\Local\\Temp\\ipykernel_2020\\3964816871.py:14: DtypeWarning: Columns (5,6) have mixed types. Specify dtype option on import or set low_memory=False.\n",
      "  df = pd.read_csv(caminho_completo, encoding='latin1',sep=';')\n",
      "C:\\Users\\alexa\\AppData\\Local\\Temp\\ipykernel_2020\\3964816871.py:14: DtypeWarning: Columns (5,6) have mixed types. Specify dtype option on import or set low_memory=False.\n",
      "  df = pd.read_csv(caminho_completo, encoding='latin1',sep=';')\n"
     ]
    },
    {
     "name": "stdout",
     "output_type": "stream",
     "text": [
      "Arquivo salvo dataset_completo\\datatran_acidentes_2007_2025.csv\n",
      "          id data_inversa dia_semana   horario  uf   br     km  \\\n",
      "0       10.0   11/06/2007    Segunda  15:30:00  MG  381  623.2   \n",
      "1       10.0   11/06/2007    Segunda  15:30:00  MG  381  623.2   \n",
      "2  1032898.0   13/08/2007    Segunda  14:25:00  MG   40  585.5   \n",
      "3  1051130.0   12/02/2007    Segunda  02:10:00  MA  135   11.0   \n",
      "4  1066824.0   20/11/2007      Terça  05:30:00  CE  222   30.8   \n",
      "5  1069918.0   16/12/2007    Domingo  17:40:00  MA  230   14.0   \n",
      "6  1070971.0   05/03/2007    Segunda  08:10:00  PR  277  584.4   \n",
      "7  1137914.0   12/08/2007    Domingo  22:30:00  ES  101    2.4   \n",
      "8  1179288.0   04/02/2007    Domingo  20:30:00  MG  251  326.2   \n",
      "9  1254853.0   22/11/2007     Quinta  21:10:00  MG   40   44.1   \n",
      "\n",
      "         municipio               causa_acidente            tipo_acidente  ...  \\\n",
      "0         OLIVEIRA             Falta de atenção          Colisão frontal  ...   \n",
      "1         OLIVEIRA             Falta de atenção          Colisão frontal  ...   \n",
      "2        ITABIRITO                       Outras           Saída de Pista  ...   \n",
      "3         SAO LUIS             Animais na Pista  Atropelamento de animal  ...   \n",
      "4          CAUCAIA  Defeito mecânico em veículo              Capotamento  ...   \n",
      "5  BARAO DE GRAJAU                       Outras              Capotamento  ...   \n",
      "6         CASCAVEL                       Outras          Colisão lateral  ...   \n",
      "7            SERRA                       Outras  Atropelamento de pessoa  ...   \n",
      "8          SALINAS                       Outras           Saída de Pista  ...   \n",
      "9         PARACATU                       Outras           Saída de Pista  ...   \n",
      "\n",
      "  feridos_graves ilesos ignorados feridos veiculos latitude longitude  \\\n",
      "0              0      5         0       4        6      NaN       NaN   \n",
      "1              0      5         0       4        6      NaN       NaN   \n",
      "2              1      2         0       1        1      NaN       NaN   \n",
      "3              1      0         0       3        1      NaN       NaN   \n",
      "4              0      0         0       1        1      NaN       NaN   \n",
      "5              1      0         0       1        1      NaN       NaN   \n",
      "6              0      2         0       0        2      NaN       NaN   \n",
      "7              1      1         0       1        1      NaN       NaN   \n",
      "8              0      1         0       2        1      NaN       NaN   \n",
      "9              0      0         0       3        1      NaN       NaN   \n",
      "\n",
      "   regional  delegacia  uop  \n",
      "0       NaN        NaN  NaN  \n",
      "1       NaN        NaN  NaN  \n",
      "2       NaN        NaN  NaN  \n",
      "3       NaN        NaN  NaN  \n",
      "4       NaN        NaN  NaN  \n",
      "5       NaN        NaN  NaN  \n",
      "6       NaN        NaN  NaN  \n",
      "7       NaN        NaN  NaN  \n",
      "8       NaN        NaN  NaN  \n",
      "9       NaN        NaN  NaN  \n",
      "\n",
      "[10 rows x 31 columns]\n"
     ]
    }
   ],
   "source": [
    "import pandas as pd\n",
    "import os\n",
    "\n",
    "pasta_dataset = 'dataset_datatran'\n",
    "\n",
    "anos = range(2007, 2026)\n",
    "\n",
    "dataframes = []\n",
    "\n",
    "for ano in anos:\n",
    "    nome_arquivo = f\"datatran{ano}.csv\"\n",
    "    caminho_completo = os.path.join(pasta_dataset, nome_arquivo)\n",
    "    \n",
    "    df = pd.read_csv(caminho_completo, encoding='latin1',sep=';')\n",
    "    df['ano'] = ano  \n",
    "    dataframes.append(df)\n",
    "\n",
    "# Junta todos os Data\n",
    "dataset_completo = pd.concat(dataframes, ignore_index=True)\n",
    "\n",
    "\n",
    "arquivo_saida = os.path.join(\"dataset_completo\", \"datatran_acidentes_2007_2025.csv\")\n",
    "\n",
    "# Salva o DataFrame combinado em um único CSV\n",
    "dataset_completo.to_csv(arquivo_saida, index=False, encoding='utf-8')\n",
    "print(f\"Arquivo salvo {arquivo_saida}\")\n",
    "\n",
    "print(dataset_completo.head(10))"
   ]
  },
  {
   "cell_type": "code",
   "execution_count": 12,
   "id": "72ff50b4",
   "metadata": {},
   "outputs": [
    {
     "name": "stderr",
     "output_type": "stream",
     "text": [
      "C:\\Users\\alexa\\AppData\\Local\\Temp\\ipykernel_2020\\1401352049.py:16: DtypeWarning: Columns (5,6,26,27,28,29,30) have mixed types. Specify dtype option on import or set low_memory=False.\n",
      "  df = pd.read_csv(output)\n"
     ]
    },
    {
     "name": "stdout",
     "output_type": "stream",
     "text": [
      "0              NaN\n",
      "1              NaN\n",
      "2              NaN\n",
      "3              NaN\n",
      "4              NaN\n",
      "            ...   \n",
      "2157038    SPRF-BA\n",
      "2157039    SPRF-SP\n",
      "2157040    SPRF-RJ\n",
      "2157041    SPRF-SE\n",
      "2157042    SPRF-MG\n",
      "Name: regional, Length: 2157043, dtype: object\n"
     ]
    }
   ],
   "source": [
    "import gdown\n",
    "import pandas as pd\n",
    "\n",
    "# ID do arquivo no Google Drive\n",
    "file_id = \"1xAi7MLqZ6oAfzPR0oDq-veTNgWQm5_uT\"\n",
    "# URL direta para download\n",
    "url = f\"https://drive.google.com/uc?id={file_id}\"\n",
    "# Nome para salvar localmente\n",
    "output = \"dataset.csv\"\n",
    "\n",
    "# Baixa o arquivo\n",
    "#gdown.download(url, output, quiet=False)\n",
    "pd.set_option('display.max_columns', None)\n",
    "\n",
    "# Lê o arquivo CSV no Pandas\n",
    "df = pd.read_csv(output)\n",
    "\n",
    "print(df[\"regional\"])"
   ]
  }
 ],
 "metadata": {
  "kernelspec": {
   "display_name": "Python 3",
   "language": "python",
   "name": "python3"
  },
  "language_info": {
   "codemirror_mode": {
    "name": "ipython",
    "version": 3
   },
   "file_extension": ".py",
   "mimetype": "text/x-python",
   "name": "python",
   "nbconvert_exporter": "python",
   "pygments_lexer": "ipython3",
   "version": "3.11.0"
  }
 },
 "nbformat": 4,
 "nbformat_minor": 5
}
