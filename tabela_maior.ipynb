{
 "cells": [
  {
   "cell_type": "markdown",
   "id": "d0be2e70",
   "metadata": {},
   "source": [
    "# Link do Dicionário do DATASET\n",
    "\n",
    "https://drive.google.com/file/d/11xcaEgl1hpyfl2hnlFaa0MsxERd6uaKF/view"
   ]
  },
  {
   "cell_type": "markdown",
   "id": "e61cc54f",
   "metadata": {},
   "source": [
    "# Importações:\n",
    "\n",
    "---"
   ]
  },
  {
   "cell_type": "code",
   "execution_count": 22,
   "id": "77f71443",
   "metadata": {},
   "outputs": [],
   "source": [
    "import pandas as pd\n",
    "import numpy as np\n",
    "import matplotlib.pyplot as plt\n",
    "import seaborn as sns\n",
    "import folium\n",
    "from folium.plugins import HeatMap\n"
   ]
  },
  {
   "cell_type": "code",
   "execution_count": 23,
   "id": "21ea4baf",
   "metadata": {},
   "outputs": [],
   "source": [
    "tabela2025 = pd.read_csv('acidentes2025_todas_causas_tipos.csv', sep=';')\n",
    "tabela2024 = pd.read_csv('acidentes2024_todas_causas_tipos.csv', sep=';')\n",
    "tabela2023 = pd.read_csv('acidentes2023_todas_causas_tipos.csv', sep=';')\n",
    "tabela2022 = pd.read_csv('acidentes2022_todas_causas_tipos.csv', sep=';')\n",
    "tabela2021 = pd.read_csv('acidentes2021_todas_causas_tipos.csv', sep=';')\n",
    "tabela2020 = pd.read_csv('acidentes2020_todas_causas_tipos.csv', sep=';')\n",
    "\n",
    "tabela2020_2025 = pd.concat([tabela2020, tabela2021, tabela2022, tabela2023, tabela2024, tabela2025], ignore_index=True)\n"
   ]
  },
  {
   "cell_type": "markdown",
   "id": "8cb26c52",
   "metadata": {},
   "source": [
    "# Informações Pincipais da Tabela:\n",
    "---"
   ]
  },
  {
   "cell_type": "code",
   "execution_count": 24,
   "id": "5fe59fad",
   "metadata": {},
   "outputs": [
    {
     "name": "stdout",
     "output_type": "stream",
     "text": [
      "(2782541, 37)\n",
      "<class 'pandas.core.frame.DataFrame'>\n",
      "Index: 2222862 entries, 0 to 2782537\n",
      "Data columns (total 37 columns):\n",
      " #   Column                  Dtype  \n",
      "---  ------                  -----  \n",
      " 0   id                      float64\n",
      " 1   pesid                   float64\n",
      " 2   data_inversa            object \n",
      " 3   dia_semana              object \n",
      " 4   horario                 object \n",
      " 5   uf                      object \n",
      " 6   br                      float64\n",
      " 7   km                      object \n",
      " 8   municipio               object \n",
      " 9   causa_principal         object \n",
      " 10  causa_acidente          object \n",
      " 11  ordem_tipo_acidente     int64  \n",
      " 12  tipo_acidente           object \n",
      " 13  classificacao_acidente  object \n",
      " 14  fase_dia                object \n",
      " 15  sentido_via             object \n",
      " 16  condicao_metereologica  object \n",
      " 17  tipo_pista              object \n",
      " 18  tracado_via             object \n",
      " 19  uso_solo                object \n",
      " 20  id_veiculo              float64\n",
      " 21  tipo_veiculo            object \n",
      " 22  marca                   object \n",
      " 23  ano_fabricacao_veiculo  float64\n",
      " 24  tipo_envolvido          object \n",
      " 25  estado_fisico           object \n",
      " 26  idade                   float64\n",
      " 27  sexo                    object \n",
      " 28  ilesos                  float64\n",
      " 29  feridos_leves           float64\n",
      " 30  feridos_graves          float64\n",
      " 31  mortos                  float64\n",
      " 32  latitude                object \n",
      " 33  longitude               object \n",
      " 34  regional                object \n",
      " 35  delegacia               object \n",
      " 36  uop                     object \n",
      "dtypes: float64(10), int64(1), object(26)\n",
      "memory usage: 644.4+ MB\n",
      "None\n"
     ]
    }
   ],
   "source": [
    "print(tabela2020_2025.shape)\n",
    "\n",
    "tabela2020_2025 = tabela2020_2025.dropna()\n",
    "\n",
    "print(tabela2020_2025.info())"
   ]
  },
  {
   "cell_type": "code",
   "execution_count": 25,
   "id": "5b4ab8ba",
   "metadata": {},
   "outputs": [
    {
     "name": "stdout",
     "output_type": "stream",
     "text": [
      "causa_acidente\n",
      "Reação tardia ou ineficiente do condutor                                         258995\n",
      "Velocidade Incompatível                                                          229161\n",
      "Ausência de reação do condutor                                                   205738\n",
      "Condutor deixou de manter distância do veículo da frente                         141445\n",
      "Acessar a via sem observar a presença dos outros veículos                        131960\n",
      "                                                                                  ...  \n",
      "Modificação proibida                                                                370\n",
      "Semáforo com defeito                                                                284\n",
      "Condutor não acionou o farol baixo durante o dia em rodovias de pista simples       196\n",
      "Transitar na calçada                                                                170\n",
      "Obstrução Via tentativa Assalto                                                      36\n",
      "Name: count, Length: 92, dtype: int64\n"
     ]
    }
   ],
   "source": [
    "print(tabela2020_2025['causa_acidente'].value_counts(ascending=False))\n"
   ]
  },
  {
   "cell_type": "code",
   "execution_count": 39,
   "id": "b2acf7b2",
   "metadata": {},
   "outputs": [
    {
     "name": "stdout",
     "output_type": "stream",
     "text": [
      "estado_fisico\n",
      "Ileso            973381\n",
      "Lesões Leves     834996\n",
      "Lesões Graves    296672\n",
      "Óbito            117813\n",
      "Name: count, dtype: int64\n"
     ]
    }
   ],
   "source": [
    "print(tabela2020_2025['estado_fisico'].value_counts(ascending=False))"
   ]
  },
  {
   "cell_type": "markdown",
   "id": "05f98327",
   "metadata": {},
   "source": [
    "# Analise Temporal\n",
    "-----"
   ]
  },
  {
   "cell_type": "code",
   "execution_count": 26,
   "id": "9cf70f78",
   "metadata": {},
   "outputs": [
    {
     "data": {
      "text/html": [
       "<div>\n",
       "<style scoped>\n",
       "    .dataframe tbody tr th:only-of-type {\n",
       "        vertical-align: middle;\n",
       "    }\n",
       "\n",
       "    .dataframe tbody tr th {\n",
       "        vertical-align: top;\n",
       "    }\n",
       "\n",
       "    .dataframe thead th {\n",
       "        text-align: right;\n",
       "    }\n",
       "</style>\n",
       "<table border=\"1\" class=\"dataframe\">\n",
       "  <thead>\n",
       "    <tr style=\"text-align: right;\">\n",
       "      <th></th>\n",
       "      <th>id</th>\n",
       "      <th>pesid</th>\n",
       "      <th>data_inversa</th>\n",
       "      <th>dia_semana</th>\n",
       "      <th>horario</th>\n",
       "      <th>uf</th>\n",
       "      <th>br</th>\n",
       "      <th>km</th>\n",
       "      <th>municipio</th>\n",
       "      <th>causa_principal</th>\n",
       "      <th>...</th>\n",
       "      <th>feridos_graves</th>\n",
       "      <th>mortos</th>\n",
       "      <th>latitude</th>\n",
       "      <th>longitude</th>\n",
       "      <th>regional</th>\n",
       "      <th>delegacia</th>\n",
       "      <th>uop</th>\n",
       "      <th>ano</th>\n",
       "      <th>mes</th>\n",
       "      <th>hora</th>\n",
       "    </tr>\n",
       "  </thead>\n",
       "  <tbody>\n",
       "    <tr>\n",
       "      <th>0</th>\n",
       "      <td>260031.0</td>\n",
       "      <td>578988.0</td>\n",
       "      <td>2020-01-01</td>\n",
       "      <td>quarta-feira</td>\n",
       "      <td>01:00:00</td>\n",
       "      <td>TO</td>\n",
       "      <td>153.0</td>\n",
       "      <td>678,1</td>\n",
       "      <td>GURUPI</td>\n",
       "      <td>Sim</td>\n",
       "      <td>...</td>\n",
       "      <td>1.0</td>\n",
       "      <td>0.0</td>\n",
       "      <td>-11,77460203</td>\n",
       "      <td>-49,10744996</td>\n",
       "      <td>SPRF-TO</td>\n",
       "      <td>DEL02-TO</td>\n",
       "      <td>UOP02-DEL01-TO</td>\n",
       "      <td>2020</td>\n",
       "      <td>Janeiro</td>\n",
       "      <td>1</td>\n",
       "    </tr>\n",
       "    <tr>\n",
       "      <th>1</th>\n",
       "      <td>260031.0</td>\n",
       "      <td>578987.0</td>\n",
       "      <td>2020-01-01</td>\n",
       "      <td>quarta-feira</td>\n",
       "      <td>01:00:00</td>\n",
       "      <td>TO</td>\n",
       "      <td>153.0</td>\n",
       "      <td>678,1</td>\n",
       "      <td>GURUPI</td>\n",
       "      <td>Sim</td>\n",
       "      <td>...</td>\n",
       "      <td>1.0</td>\n",
       "      <td>0.0</td>\n",
       "      <td>-11,77460203</td>\n",
       "      <td>-49,10744996</td>\n",
       "      <td>SPRF-TO</td>\n",
       "      <td>DEL02-TO</td>\n",
       "      <td>UOP02-DEL01-TO</td>\n",
       "      <td>2020</td>\n",
       "      <td>Janeiro</td>\n",
       "      <td>1</td>\n",
       "    </tr>\n",
       "    <tr>\n",
       "      <th>2</th>\n",
       "      <td>260031.0</td>\n",
       "      <td>578991.0</td>\n",
       "      <td>2020-01-01</td>\n",
       "      <td>quarta-feira</td>\n",
       "      <td>01:00:00</td>\n",
       "      <td>TO</td>\n",
       "      <td>153.0</td>\n",
       "      <td>678,1</td>\n",
       "      <td>GURUPI</td>\n",
       "      <td>Sim</td>\n",
       "      <td>...</td>\n",
       "      <td>1.0</td>\n",
       "      <td>0.0</td>\n",
       "      <td>-11,77460203</td>\n",
       "      <td>-49,10744996</td>\n",
       "      <td>SPRF-TO</td>\n",
       "      <td>DEL02-TO</td>\n",
       "      <td>UOP02-DEL01-TO</td>\n",
       "      <td>2020</td>\n",
       "      <td>Janeiro</td>\n",
       "      <td>1</td>\n",
       "    </tr>\n",
       "    <tr>\n",
       "      <th>3</th>\n",
       "      <td>260031.0</td>\n",
       "      <td>578986.0</td>\n",
       "      <td>2020-01-01</td>\n",
       "      <td>quarta-feira</td>\n",
       "      <td>01:00:00</td>\n",
       "      <td>TO</td>\n",
       "      <td>153.0</td>\n",
       "      <td>678,1</td>\n",
       "      <td>GURUPI</td>\n",
       "      <td>Sim</td>\n",
       "      <td>...</td>\n",
       "      <td>1.0</td>\n",
       "      <td>0.0</td>\n",
       "      <td>-11,77460203</td>\n",
       "      <td>-49,10744996</td>\n",
       "      <td>SPRF-TO</td>\n",
       "      <td>DEL02-TO</td>\n",
       "      <td>UOP02-DEL01-TO</td>\n",
       "      <td>2020</td>\n",
       "      <td>Janeiro</td>\n",
       "      <td>1</td>\n",
       "    </tr>\n",
       "    <tr>\n",
       "      <th>4</th>\n",
       "      <td>260031.0</td>\n",
       "      <td>578475.0</td>\n",
       "      <td>2020-01-01</td>\n",
       "      <td>quarta-feira</td>\n",
       "      <td>01:00:00</td>\n",
       "      <td>TO</td>\n",
       "      <td>153.0</td>\n",
       "      <td>678,1</td>\n",
       "      <td>GURUPI</td>\n",
       "      <td>Sim</td>\n",
       "      <td>...</td>\n",
       "      <td>1.0</td>\n",
       "      <td>0.0</td>\n",
       "      <td>-11,77460203</td>\n",
       "      <td>-49,10744996</td>\n",
       "      <td>SPRF-TO</td>\n",
       "      <td>DEL02-TO</td>\n",
       "      <td>UOP02-DEL01-TO</td>\n",
       "      <td>2020</td>\n",
       "      <td>Janeiro</td>\n",
       "      <td>1</td>\n",
       "    </tr>\n",
       "  </tbody>\n",
       "</table>\n",
       "<p>5 rows × 40 columns</p>\n",
       "</div>"
      ],
      "text/plain": [
       "         id     pesid data_inversa    dia_semana   horario  uf     br     km  \\\n",
       "0  260031.0  578988.0   2020-01-01  quarta-feira  01:00:00  TO  153.0  678,1   \n",
       "1  260031.0  578987.0   2020-01-01  quarta-feira  01:00:00  TO  153.0  678,1   \n",
       "2  260031.0  578991.0   2020-01-01  quarta-feira  01:00:00  TO  153.0  678,1   \n",
       "3  260031.0  578986.0   2020-01-01  quarta-feira  01:00:00  TO  153.0  678,1   \n",
       "4  260031.0  578475.0   2020-01-01  quarta-feira  01:00:00  TO  153.0  678,1   \n",
       "\n",
       "  municipio causa_principal  ... feridos_graves  mortos      latitude  \\\n",
       "0    GURUPI             Sim  ...            1.0     0.0  -11,77460203   \n",
       "1    GURUPI             Sim  ...            1.0     0.0  -11,77460203   \n",
       "2    GURUPI             Sim  ...            1.0     0.0  -11,77460203   \n",
       "3    GURUPI             Sim  ...            1.0     0.0  -11,77460203   \n",
       "4    GURUPI             Sim  ...            1.0     0.0  -11,77460203   \n",
       "\n",
       "      longitude regional delegacia             uop   ano      mes hora  \n",
       "0  -49,10744996  SPRF-TO  DEL02-TO  UOP02-DEL01-TO  2020  Janeiro    1  \n",
       "1  -49,10744996  SPRF-TO  DEL02-TO  UOP02-DEL01-TO  2020  Janeiro    1  \n",
       "2  -49,10744996  SPRF-TO  DEL02-TO  UOP02-DEL01-TO  2020  Janeiro    1  \n",
       "3  -49,10744996  SPRF-TO  DEL02-TO  UOP02-DEL01-TO  2020  Janeiro    1  \n",
       "4  -49,10744996  SPRF-TO  DEL02-TO  UOP02-DEL01-TO  2020  Janeiro    1  \n",
       "\n",
       "[5 rows x 40 columns]"
      ]
     },
     "metadata": {},
     "output_type": "display_data"
    }
   ],
   "source": [
    "# Convertendo a data inversa pra datetime\n",
    "tabela2020_2025['data_inversa'] = pd.to_datetime(tabela2020_2025['data_inversa'],errors='coerce')\n",
    "\n",
    "meses = {1: 'Janeiro', 2: 'Fevereiro', 3: 'Março', 4: 'Abril', 5: 'Maio', 6: 'Junho',\n",
    "         7: 'Julho', 8: 'Agosto', 9: 'Setembro', 10: 'Outubro', 11: 'Novembro', 12: 'Dezembro'}\n",
    "\n",
    "# Criando colunas derivadas\n",
    "tabela2020_2025.loc[:,'ano'] = tabela2020_2025['data_inversa'].dt.year\n",
    "tabela2020_2025.loc[:,'mes'] = tabela2020_2025['data_inversa'].dt.month\n",
    "tabela2020_2025.loc[:,'hora'] = pd.to_datetime(tabela2020_2025['horario'], format='%H:%M:%S', errors='coerce').dt.hour\n",
    "\n",
    "tabela2020_2025['mes'] = tabela2020_2025['mes'].map(meses)\n",
    "\n",
    "display(tabela2020_2025.head())"
   ]
  },
  {
   "cell_type": "code",
   "execution_count": 27,
   "id": "e182444b",
   "metadata": {},
   "outputs": [
    {
     "data": {
      "text/plain": [
       "array(['01:00:00', '01:52:00', '01:15:00', ..., '03:07:00', '04:04:00',\n",
       "       '03:39:00'], dtype=object)"
      ]
     },
     "execution_count": 27,
     "metadata": {},
     "output_type": "execute_result"
    }
   ],
   "source": [
    "tabela2020_2025['horario'].unique()"
   ]
  },
  {
   "cell_type": "code",
   "execution_count": 28,
   "id": "423fbcf8",
   "metadata": {},
   "outputs": [
    {
     "name": "stdout",
     "output_type": "stream",
     "text": [
      "Acidentes por dia:\n",
      "               id      pesid data_inversa    dia_semana   horario  uf     br  \\\n",
      "0        260031.0   578988.0   2020-01-01  quarta-feira  01:00:00  TO  153.0   \n",
      "1        260031.0   578987.0   2020-01-01  quarta-feira  01:00:00  TO  153.0   \n",
      "2        260031.0   578991.0   2020-01-01  quarta-feira  01:00:00  TO  153.0   \n",
      "3        260031.0   578986.0   2020-01-01  quarta-feira  01:00:00  TO  153.0   \n",
      "4        260031.0   578475.0   2020-01-01  quarta-feira  01:00:00  TO  153.0   \n",
      "...           ...        ...          ...           ...       ...  ..    ...   \n",
      "2782529  705809.0  1571786.0   2025-05-01  quinta-feira  19:50:00  SE  101.0   \n",
      "2782531  705809.0  1571786.0   2025-05-01  quinta-feira  19:50:00  SE  101.0   \n",
      "2782533  705809.0  1571786.0   2025-05-01  quinta-feira  19:50:00  SE  101.0   \n",
      "2782535  705809.0  1571786.0   2025-05-01  quinta-feira  19:50:00  SE  101.0   \n",
      "2782537  705809.0  1571786.0   2025-05-01  quinta-feira  19:50:00  SE  101.0   \n",
      "\n",
      "            km      municipio causa_principal  ... feridos_graves  mortos  \\\n",
      "0        678,1         GURUPI             Sim  ...            1.0     0.0   \n",
      "1        678,1         GURUPI             Sim  ...            1.0     0.0   \n",
      "2        678,1         GURUPI             Sim  ...            1.0     0.0   \n",
      "3        678,1         GURUPI             Sim  ...            1.0     0.0   \n",
      "4        678,1         GURUPI             Sim  ...            1.0     0.0   \n",
      "...        ...            ...             ...  ...            ...     ...   \n",
      "2782529   98,6  SAO CRISTOVAO             Não  ...            0.0     1.0   \n",
      "2782531   98,6  SAO CRISTOVAO             Não  ...            0.0     1.0   \n",
      "2782533   98,6  SAO CRISTOVAO             Sim  ...            0.0     1.0   \n",
      "2782535   98,6  SAO CRISTOVAO             Sim  ...            0.0     1.0   \n",
      "2782537   98,6  SAO CRISTOVAO             Sim  ...            0.0     1.0   \n",
      "\n",
      "             latitude     longitude regional delegacia             uop   ano  \\\n",
      "0        -11,77460203  -49,10744996  SPRF-TO  DEL02-TO  UOP02-DEL01-TO  2020   \n",
      "1        -11,77460203  -49,10744996  SPRF-TO  DEL02-TO  UOP02-DEL01-TO  2020   \n",
      "2        -11,77460203  -49,10744996  SPRF-TO  DEL02-TO  UOP02-DEL01-TO  2020   \n",
      "3        -11,77460203  -49,10744996  SPRF-TO  DEL02-TO  UOP02-DEL01-TO  2020   \n",
      "4        -11,77460203  -49,10744996  SPRF-TO  DEL02-TO  UOP02-DEL01-TO  2020   \n",
      "...               ...           ...      ...       ...             ...   ...   \n",
      "2782529    -10,930556    -37,185833  SPRF-SE  DEL02-SE  UOP01-DEL02-SE  2025   \n",
      "2782531    -10,930556    -37,185833  SPRF-SE  DEL02-SE  UOP01-DEL02-SE  2025   \n",
      "2782533    -10,930556    -37,185833  SPRF-SE  DEL02-SE  UOP01-DEL02-SE  2025   \n",
      "2782535    -10,930556    -37,185833  SPRF-SE  DEL02-SE  UOP01-DEL02-SE  2025   \n",
      "2782537    -10,930556    -37,185833  SPRF-SE  DEL02-SE  UOP01-DEL02-SE  2025   \n",
      "\n",
      "             mes hora  \n",
      "0        Janeiro    1  \n",
      "1        Janeiro    1  \n",
      "2        Janeiro    1  \n",
      "3        Janeiro    1  \n",
      "4        Janeiro    1  \n",
      "...          ...  ...  \n",
      "2782529     Maio   19  \n",
      "2782531     Maio   19  \n",
      "2782533     Maio   19  \n",
      "2782535     Maio   19  \n",
      "2782537     Maio   19  \n",
      "\n",
      "[2222862 rows x 40 columns]\n"
     ]
    }
   ],
   "source": [
    "# Acidentes por dia da semana\n",
    "acidentes_por_dia = tabela2020_2025['dia_semana'].value_counts(ascending=False)\n",
    "\n",
    "print('Acidentes por dia:')\n",
    "print(tabela2020_2025)\n",
    "\n"
   ]
  },
  {
   "cell_type": "code",
   "execution_count": 29,
   "id": "36569e5c",
   "metadata": {},
   "outputs": [
    {
     "name": "stdout",
     "output_type": "stream",
     "text": [
      "\n",
      "Acidentes por hora:\n",
      "horario\n",
      "19:00:00    31354\n",
      "18:00:00    30255\n",
      "18:30:00    30140\n",
      "17:00:00    28139\n",
      "17:30:00    24185\n",
      "            ...  \n",
      "03:04:00        8\n",
      "01:51:00        8\n",
      "03:37:00        7\n",
      "02:14:00        5\n",
      "04:04:00        1\n",
      "Name: count, Length: 1440, dtype: int64\n"
     ]
    }
   ],
   "source": [
    "# Acidentes por hora\n",
    "acidentes_por_hora = tabela2020_2025['horario'].value_counts().sort_values(ascending=False)\n",
    "\n",
    "print('\\nAcidentes por hora:')\n",
    "print(acidentes_por_hora)"
   ]
  },
  {
   "cell_type": "code",
   "execution_count": 30,
   "id": "5030379c",
   "metadata": {},
   "outputs": [
    {
     "name": "stdout",
     "output_type": "stream",
     "text": [
      "\n",
      "Acidentes por mês:\n",
      "mes\n",
      "Abril        186210\n",
      "Agosto       170245\n",
      "Dezembro     202807\n",
      "Fevereiro    180728\n",
      "Janeiro      204509\n",
      "Julho        181261\n",
      "Junho        191370\n",
      "Maio         202220\n",
      "Março        185324\n",
      "Novembro     166823\n",
      "Outubro      182430\n",
      "Setembro     168935\n",
      "dtype: int64\n"
     ]
    }
   ],
   "source": [
    "# Acidentes por mês\n",
    "acidentes_por_mes = tabela2020_2025.groupby('mes').size()\n",
    "\n",
    "print('\\nAcidentes por mês:')\n",
    "print(acidentes_por_mes)"
   ]
  },
  {
   "cell_type": "code",
   "execution_count": 31,
   "id": "be91f913",
   "metadata": {},
   "outputs": [
    {
     "data": {
      "image/png": "[encoded data removed]",
      "text/plain": [
       "<Figure size 1000x500 with 1 Axes>"
      ]
     },
     "metadata": {},
     "output_type": "display_data"
    }
   ],
   "source": [
    "sns.set_theme(style=\"whitegrid\")\n",
    "\n",
    "\n",
    "# Acidentes por Dia da Semana\n",
    "plt.figure(figsize=(10,5))\n",
    "sns.countplot(data=tabela2020_2025, x='dia_semana', order=['segunda-feira','terça-feira','quarta-feira','quinta-feira','sexta-feira','sábado','domingo'])\n",
    "plt.title('Distribuição de Acidentes por Dia da Semana')\n",
    "plt.ylabel('Quantidade de Acidentes')\n",
    "plt.xlabel('Dia da Semana')\n",
    "plt.show()"
   ]
  },
  {
   "cell_type": "code",
   "execution_count": 32,
   "id": "a86b3fc5",
   "metadata": {},
   "outputs": [
    {
     "data": {
      "image/png": "[encoded data removed]",
      "text/plain": [
       "<Figure size 1000x500 with 1 Axes>"
      ]
     },
     "metadata": {},
     "output_type": "display_data"
    }
   ],
   "source": [
    "# Acidentes por hora do dia\n",
    "plt.figure(figsize=(10,5))\n",
    "sns.countplot(data=tabela2020_2025, x='hora', color='royalblue')\n",
    "plt.title('Distribuição de Acidentes por Hora')\n",
    "plt.ylabel('Quantidade de Acidentes')\n",
    "plt.xlabel('Hora do Dia')\n",
    "plt.show()"
   ]
  },
  {
   "cell_type": "code",
   "execution_count": 33,
   "id": "a3fd252f",
   "metadata": {},
   "outputs": [
    {
     "data": {
      "image/png": "[encoded data removed]",
      "text/plain": [
       "<Figure size 1000x500 with 1 Axes>"
      ]
     },
     "metadata": {},
     "output_type": "display_data"
    }
   ],
   "source": [
    "# Evolução ao longo dos anos (linha)\n",
    "evolucao = tabela2020_2025.groupby('ano').size().reset_index(name='acidentes')\n",
    "plt.figure(figsize=(10,5))\n",
    "sns.lineplot(data=evolucao, x='ano', y='acidentes', marker='o')\n",
    "plt.title('Evolução Anual de Acidentes')\n",
    "plt.ylabel('Quantidade')\n",
    "plt.xlabel('Ano')\n",
    "plt.show()"
   ]
  },
  {
   "cell_type": "markdown",
   "id": "2383dc75",
   "metadata": {},
   "source": [
    "## Primeira Conclusão da Análise Temporal\n",
    "Apesar de percebermos que os dados estão bem destribuidos, nos finais de semana à noite, entre às 17 e 19 horas, são onde ocorrem a maioria dos acidentes\n",
    "\n",
    "---"
   ]
  },
  {
   "cell_type": "code",
   "execution_count": 34,
   "id": "53413cd3",
   "metadata": {},
   "outputs": [
    {
     "name": "stdout",
     "output_type": "stream",
     "text": [
      "Totais de casos com alcool: 100077 casos\n"
     ]
    }
   ],
   "source": [
    "alcool = tabela2020_2025[tabela2020_2025['causa_acidente'] == 'Ingestão de álcool pelo condutor']\n",
    "#display(alcool)\n",
    "\n",
    "print(f\"Totais de casos com alcool: {alcool.shape[0]} casos\")"
   ]
  },
  {
   "cell_type": "markdown",
   "id": "9d64e3c7",
   "metadata": {},
   "source": [
    "# Analise Geografica\n",
    "---"
   ]
  },
  {
   "cell_type": "code",
   "execution_count": 35,
   "id": "be797f51",
   "metadata": {},
   "outputs": [
    {
     "name": "stdout",
     "output_type": "stream",
     "text": [
      "uf\n",
      "MG    303010\n",
      "PR    250372\n",
      "SC    207308\n",
      "RS    161972\n",
      "SP    150921\n",
      "RJ    124966\n",
      "BA    118001\n",
      "GO    116341\n",
      "PE     87264\n",
      "MT     80563\n",
      "MS     78711\n",
      "RO     71340\n",
      "PB     59414\n",
      "PI     58948\n",
      "ES     54914\n",
      "PA     52441\n",
      "CE     46766\n",
      "MA     44492\n",
      "RN     34461\n",
      "DF     34147\n",
      "TO     30756\n",
      "AL     13482\n",
      "SE     13439\n",
      "AC      8674\n",
      "AM      7273\n",
      "RR      7187\n",
      "AP      5699\n",
      "Name: count, dtype: int64\n",
      "municipio\n",
      "BRASILIA               34147\n",
      "GUARULHOS              29070\n",
      "CURITIBA               28676\n",
      "SAO JOSE               20211\n",
      "BETIM                  19799\n",
      "                       ...  \n",
      "BRASNORTE                  1\n",
      "TELEMACO BORBA             1\n",
      "CAMPINA DA LAGOA           1\n",
      "SAO RAIMUNDO NONATO        1\n",
      "MACAMBARA                  1\n",
      "Name: count, Length: 2002, dtype: int64\n"
     ]
    }
   ],
   "source": [
    "# Locais de Principais Ocorrências de Acidentes\n",
    "# Acidentes por UF (estado)\n",
    "print(tabela2020_2025['uf'].value_counts())\n",
    "\n",
    "# Acidentes por município\n",
    "print(tabela2020_2025['municipio'].value_counts())"
   ]
  },
  {
   "cell_type": "markdown",
   "id": "11aad059",
   "metadata": {},
   "source": [
    "## Conclusões Análise Geografica:\n",
    "Estados de Minas Gerais, Santa Catarina, Paraná, Rio de Janeiro e Rio Grande do Sul são os estados mais abundantes em acidentes de t^ransito. A gente pode restringir a pesquisa para esses 5 estados.\n",
    "\n",
    "---"
   ]
  },
  {
   "cell_type": "markdown",
   "id": "65006dae",
   "metadata": {},
   "source": [
    "# Gravidade e Vítimas \n",
    "---"
   ]
  },
  {
   "cell_type": "code",
   "execution_count": 36,
   "id": "16da91d4",
   "metadata": {},
   "outputs": [
    {
     "name": "stdout",
     "output_type": "stream",
     "text": [
      "classificacao_acidente\n",
      "Com Vítimas Feridas    1691463\n",
      "Com Vítimas Fatais      326339\n",
      "Sem Vítimas             205060\n",
      "Name: count, dtype: int64\n",
      "                                  mortos  feridos_leves     total\n",
      "tipo_acidente                                                    \n",
      "Saída de leito carroçável        19753.0       130259.0  150012.0\n",
      "Tombamento                       16003.0       125637.0  141640.0\n",
      "Queda de ocupante de veículo     15739.0       108886.0  124625.0\n",
      "Colisão traseira                  7906.0       105808.0  113714.0\n",
      "Colisão com objeto                9437.0        67156.0   76593.0\n",
      "Capotamento                       7452.0        65470.0   72922.0\n",
      "Colisão transversal               5170.0        63623.0   68793.0\n",
      "Colisão frontal                  20817.0        46669.0   67486.0\n",
      "Colisão lateral mesmo sentido     2482.0        44608.0   47090.0\n",
      "Colisão lateral sentido oposto    2730.0        15623.0   18353.0\n",
      "Colisão com objeto estático       1504.0        12099.0   13603.0\n",
      "Engavetamento                      654.0        12488.0   13142.0\n",
      "Colisão lateral                    661.0        10800.0   11461.0\n",
      "Derramamento de carga             2133.0         7681.0    9814.0\n",
      "Atropelamento de Pedestre         2280.0         6364.0    8644.0\n",
      "Atropelamento de Animal            703.0         6655.0    7358.0\n",
      "Incêndio                          1891.0         2733.0    4624.0\n",
      "Eventos atípicos                   410.0         1741.0    2151.0\n",
      "Colisão com objeto em movimento     50.0          378.0     428.0\n",
      "Danos eventuais                     38.0          311.0     349.0\n",
      "Sinistro pessoal de trânsito         0.0            7.0       7.0\n"
     ]
    }
   ],
   "source": [
    "# Classificação dos acidentes\n",
    "print(tabela2020_2025['classificacao_acidente'].value_counts())\n",
    "\n",
    "\n",
    "# Mortos e feridos leves por tipo de acidente\n",
    "resultado = tabela2020_2025.groupby('tipo_acidente')[['mortos', 'feridos_leves']].sum()\n",
    "resultado['total'] = resultado['mortos'] + resultado['feridos_leves']\n",
    "resultado_ordenado = resultado.sort_values('total', ascending=False)\n",
    "\n",
    "print(resultado_ordenado)\n"
   ]
  },
  {
   "cell_type": "code",
   "execution_count": 37,
   "id": "21006df1",
   "metadata": {},
   "outputs": [
    {
     "name": "stdout",
     "output_type": "stream",
     "text": [
      "mortos\n",
      "0.0    2105049\n",
      "1.0     117813\n",
      "Name: count, dtype: int64\n",
      "Total: 0 2222862\n"
     ]
    }
   ],
   "source": [
    "# Total de mortos e feridos em acidentes com álcool\n",
    "print(tabela2020_2025['mortos'].value_counts())\n",
    "print(f'Total: {0}',tabela2020_2025['mortos'].value_counts(ascending=False).sum())"
   ]
  }
 ],
 "metadata": {
  "kernelspec": {
   "display_name": "mpdl",
   "language": "python",
   "name": "python3"
  },
  "language_info": {
   "codemirror_mode": {
    "name": "ipython",
    "version": 3
   },
   "file_extension": ".py",
   "mimetype": "text/x-python",
   "name": "python",
   "nbconvert_exporter": "python",
   "pygments_lexer": "ipython3",
   "version": "3.11.13"
  }
 },
 "nbformat": 4,
 "nbformat_minor": 5
}
