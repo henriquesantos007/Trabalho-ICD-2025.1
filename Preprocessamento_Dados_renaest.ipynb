{
 "cells": [
  {
   "cell_type": "code",
   "execution_count": 1,
   "id": "8db5dcea",
   "metadata": {},
   "outputs": [],
   "source": [
    "import pandas as pd\n",
    "import os\n",
    "\n",
    "dataset = \"Acidentes_DadosAbertos_20250912.csv\"\n",
    "dataset_TipoVeiculo = \"TipoVeiculo_DadosAbertos_20250912.csv\"\n",
    "dataset_Vitimas = \"Vitimas_DadosAbertos_20250912.csv\"\n",
    "\n",
    "df_acidentes = pd.read_csv(dataset, encoding=\"latin1\", sep=\";\", low_memory=False)\n",
    "df_vitimas_raw = pd.read_csv(dataset_Vitimas, encoding=\"latin1\", sep=\";\", low_memory=False)\n",
    "df_TipoVeiculo_raw = pd.read_csv(dataset_TipoVeiculo, encoding=\"latin1\", sep=\";\", low_memory=False)\n",
    "\n",
    "arquivo_reduzido_completo = \"acidentes_reduzido_completo.csv\""
   ]
  },
  {
   "cell_type": "code",
   "execution_count": 2,
   "id": "2828191f",
   "metadata": {},
   "outputs": [],
   "source": [
    "# Colunas a remover\n",
    "colunas_remover = [\n",
    "    \"num_end_acidente\",\n",
    "    \"cep_acidente\",\n",
    "    \"chv_localidade\",\n",
    "    \"km_via_acidente\",\n",
    "    \"tp_rodovia\",\n",
    "    \"tp_cruzamento\",\n",
    "    \"tp_pavimento\",\n",
    "    \"tp_curva\",\n",
    "    \"ind_guardrail\",\n",
    "    \"ind_cantcentral\",\n",
    "    \"ind_acostamento\",\n",
    "    \"latitude_acidente\",\n",
    "    \"longitude_acidente\",\n",
    "    \"mes_ano_acidente\",\n",
    "    \"mes_acidente\"\n",
    "]\n",
    "\n",
    "# Remove colunas desnecessárias\n",
    "df_reduzido = df_acidentes.drop(columns=[c for c in colunas_remover if c in df_acidentes.columns])\n",
    "\n",
    "df_vitimas = df_vitimas_raw[[\"num_acidente\", \"faixa_idade\", \"genero\"]]\n",
    "df_TipoVeiculo = df_TipoVeiculo_raw[[\"num_acidente\", \"tipo_veiculo\"]]\n",
    "\n",
    "# Faz os merges\n",
    "df_final = pd.merge(df_reduzido, df_vitimas, on=\"num_acidente\", how=\"left\")\n",
    "df_final = pd.merge(df_final, df_TipoVeiculo, on=\"num_acidente\", how=\"left\")\n",
    "\n",
    "\n",
    "df_final.to_csv(arquivo_reduzido_completo, sep=\",\", index=False)\n"
   ]
  }
 ],
 "metadata": {
  "kernelspec": {
   "display_name": "Python 3",
   "language": "python",
   "name": "python3"
  },
  "language_info": {
   "codemirror_mode": {
    "name": "ipython",
    "version": 3
   },
   "file_extension": ".py",
   "mimetype": "text/x-python",
   "name": "python",
   "nbconvert_exporter": "python",
   "pygments_lexer": "ipython3",
   "version": "3.11.0"
  }
 },
 "nbformat": 4,
 "nbformat_minor": 5
}
