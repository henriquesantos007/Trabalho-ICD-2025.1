{
 "cells": [
  {
   "cell_type": "code",
   "execution_count": 35,
   "id": "77f71443",
   "metadata": {},
   "outputs": [],
   "source": [
    "import pandas as pd"
   ]
  },
  {
   "cell_type": "code",
   "execution_count": 36,
   "id": "21ea4baf",
   "metadata": {},
   "outputs": [],
   "source": [
    "tabela = pd.read_csv('datatran2025.csv', sep=';')"
   ]
  },
  {
   "cell_type": "code",
   "execution_count": 37,
   "id": "5fe59fad",
   "metadata": {},
   "outputs": [
    {
     "name": "stdout",
     "output_type": "stream",
     "text": [
      "<class 'pandas.core.frame.DataFrame'>\n",
      "RangeIndex: 34705 entries, 0 to 34704\n",
      "Data columns (total 30 columns):\n",
      " #   Column                  Non-Null Count  Dtype  \n",
      "---  ------                  --------------  -----  \n",
      " 0   id                      34705 non-null  float64\n",
      " 1   data_inversa            34705 non-null  object \n",
      " 2   dia_semana              34705 non-null  object \n",
      " 3   horario                 34705 non-null  object \n",
      " 4   uf                      34705 non-null  object \n",
      " 5   br                      34705 non-null  int64  \n",
      " 6   km                      34705 non-null  object \n",
      " 7   municipio               34705 non-null  object \n",
      " 8   causa_acidente          34705 non-null  object \n",
      " 9   tipo_acidente           34705 non-null  object \n",
      " 10  classificacao_acidente  34704 non-null  object \n",
      " 11  fase_dia                34705 non-null  object \n",
      " 12  sentido_via             34705 non-null  object \n",
      " 13  condicao_metereologica  34705 non-null  object \n",
      " 14  tipo_pista              34705 non-null  object \n",
      " 15  tracado_via             34705 non-null  object \n",
      " 16  uso_solo                34705 non-null  object \n",
      " 17  pessoas                 34705 non-null  int64  \n",
      " 18  mortos                  34705 non-null  int64  \n",
      " 19  feridos_leves           34705 non-null  int64  \n",
      " 20  feridos_graves          34705 non-null  int64  \n",
      " 21  ilesos                  34705 non-null  int64  \n",
      " 22  ignorados               34705 non-null  int64  \n",
      " 23  feridos                 34705 non-null  int64  \n",
      " 24  veiculos                34705 non-null  int64  \n",
      " 25  latitude                34705 non-null  object \n",
      " 26  longitude               34705 non-null  object \n",
      " 27  regional                34705 non-null  object \n",
      " 28  delegacia               34697 non-null  object \n",
      " 29  uop                     34692 non-null  object \n",
      "dtypes: float64(1), int64(9), object(20)\n",
      "memory usage: 7.9+ MB\n",
      "None\n",
      "id                         0\n",
      "data_inversa               0\n",
      "dia_semana                 0\n",
      "horario                    0\n",
      "uf                         0\n",
      "br                         0\n",
      "km                         0\n",
      "municipio                  0\n",
      "causa_acidente             0\n",
      "tipo_acidente              0\n",
      "classificacao_acidente     1\n",
      "fase_dia                   0\n",
      "sentido_via                0\n",
      "condicao_metereologica     0\n",
      "tipo_pista                 0\n",
      "tracado_via                0\n",
      "uso_solo                   0\n",
      "pessoas                    0\n",
      "mortos                     0\n",
      "feridos_leves              0\n",
      "feridos_graves             0\n",
      "ilesos                     0\n",
      "ignorados                  0\n",
      "feridos                    0\n",
      "veiculos                   0\n",
      "latitude                   0\n",
      "longitude                  0\n",
      "regional                   0\n",
      "delegacia                  8\n",
      "uop                       13\n",
      "dtype: int64\n"
     ]
    }
   ],
   "source": [
    "print(tabela.info())\n",
    "print(tabela.isnull().sum())"
   ]
  },
  {
   "cell_type": "code",
   "execution_count": 38,
   "id": "5b4ab8ba",
   "metadata": {},
   "outputs": [
    {
     "name": "stdout",
     "output_type": "stream",
     "text": [
      "causa_acidente\n",
      "Ausência de reação do condutor                               5320\n",
      "Reação tardia ou ineficiente do condutor                     5151\n",
      "Acessar a via sem observar a presença dos outros veículos    3342\n",
      "Condutor deixou de manter distância do veículo da frente     2112\n",
      "Velocidade Incompatível                                      1997\n",
      "                                                             ... \n",
      "Faróis desregulados                                             4\n",
      "Modificação proibida                                            4\n",
      "Redutor de velocidade em desacordo                              4\n",
      "Sistema de drenagem ineficiente                                 2\n",
      "Sinalização encoberta                                           1\n",
      "Name: count, Length: 69, dtype: int64\n"
     ]
    }
   ],
   "source": [
    "print(tabela['causa_acidente'].value_counts())"
   ]
  },
  {
   "cell_type": "code",
   "execution_count": 40,
   "id": "be797f51",
   "metadata": {},
   "outputs": [
    {
     "name": "stdout",
     "output_type": "stream",
     "text": [
      "uf\n",
      "MG    4447\n",
      "SC    3908\n",
      "PR    3633\n",
      "RJ    3067\n",
      "RS    2462\n",
      "SP    2278\n",
      "BA    2048\n",
      "GO    1495\n",
      "PE    1398\n",
      "MT    1293\n",
      "ES    1282\n",
      "PB    1032\n",
      "MS     795\n",
      "RN     753\n",
      "CE     704\n",
      "RO     692\n",
      "PI     673\n",
      "MA     531\n",
      "DF     479\n",
      "PA     475\n",
      "AL     325\n",
      "TO     324\n",
      "SE     278\n",
      "AC     120\n",
      "RR      74\n",
      "AP      74\n",
      "AM      65\n",
      "Name: count, dtype: int64\n",
      "municipio\n",
      "BRASILIA           479\n",
      "DUQUE DE CAXIAS    392\n",
      "GUARULHOS          388\n",
      "SAO JOSE           334\n",
      "CURITIBA           321\n",
      "                  ... \n",
      "CALUMBI              1\n",
      "RIBEIRAO DO SUL      1\n",
      "SAMBAIBA             1\n",
      "VICENTINA            1\n",
      "CRUZEIRO DO SUL      1\n",
      "Name: count, Length: 1708, dtype: int64\n",
      "dia_semana\n",
      "domingo          5478\n",
      "sábado           5420\n",
      "sexta-feira      5311\n",
      "segunda-feira    5063\n",
      "quarta-feira     4664\n",
      "quinta-feira     4588\n",
      "terça-feira      4181\n",
      "Name: count, dtype: int64\n",
      "horario\n",
      "18    2565\n",
      "17    2338\n",
      "19    2240\n",
      "07    2192\n",
      "16    1922\n",
      "08    1838\n",
      "15    1781\n",
      "20    1602\n",
      "14    1600\n",
      "06    1531\n",
      "13    1505\n",
      "11    1503\n",
      "09    1495\n",
      "12    1487\n",
      "10    1475\n",
      "21    1352\n",
      "22    1112\n",
      "05    1051\n",
      "23     870\n",
      "04     768\n",
      "00     705\n",
      "01     644\n",
      "03     604\n",
      "02     525\n",
      "Name: count, dtype: int64\n"
     ]
    }
   ],
   "source": [
    "# Locais de Principais Ocorrências de Acidentes\n",
    "# Acidentes por UF (estado)\n",
    "print(tabela['uf'].value_counts())\n",
    "\n",
    "# Acidentes por município\n",
    "print(tabela['municipio'].value_counts())\n",
    "\n",
    "# Acidentes por dia da semana\n",
    "print(tabela['dia_semana'].value_counts())\n",
    "\n",
    "# Acidentes por horário (faixa horária)\n",
    "print(tabela['horario'].str[:2].value_counts())"
   ]
  },
  {
   "cell_type": "code",
   "execution_count": 49,
   "id": "16da91d4",
   "metadata": {},
   "outputs": [
    {
     "name": "stdout",
     "output_type": "stream",
     "text": [
      "classificacao_acidente\n",
      "Com Vítimas Feridas    26913\n",
      "Sem Vítimas             5297\n",
      "Com Vítimas Fatais      2494\n",
      "Name: count, dtype: int64\n",
      "                                mortos  feridos_leves\n",
      "tipo_acidente                                        \n",
      "Atropelamento de Animal             31            519\n",
      "Atropelamento de Pedestre          438            743\n",
      "Capotamento                         44            739\n",
      "Colisão com objeto                 168           1946\n",
      "Colisão frontal                    906           2150\n",
      "Colisão lateral mesmo sentido      108           3372\n",
      "Colisão lateral sentido oposto     128            985\n",
      "Colisão transversal                205           4272\n",
      "Colisão traseira                   314           6118\n",
      "Derramamento de carga                1             25\n",
      "Engavetamento                       15            687\n",
      "Eventos atípicos                    15            105\n",
      "Incêndio                             0             30\n",
      "Queda de ocupante de veículo        45           1678\n",
      "Saída de leito carroçável          325           4352\n",
      "Sinistro pessoal de trânsito         0              1\n",
      "Tombamento                         142           2816\n"
     ]
    }
   ],
   "source": [
    "# Classificação dos acidentes\n",
    "print(tabela['classificacao_acidente'].value_counts())\n",
    "\n",
    "\n",
    "# Mortos e feridos leves por tipo de acidente\n",
    "resultado = tabela.groupby('tipo_acidente')[['mortos', 'feridos_leves']].sum()\n",
    "print(resultado)\n"
   ]
  },
  {
   "cell_type": "code",
   "execution_count": 55,
   "id": "21006df1",
   "metadata": {},
   "outputs": [
    {
     "name": "stdout",
     "output_type": "stream",
     "text": [
      "mortos\n",
      "0    32211\n",
      "1     2223\n",
      "2      200\n",
      "3       46\n",
      "4       12\n",
      "5        9\n",
      "9        2\n",
      "6        1\n",
      "7        1\n",
      "Name: count, dtype: int64\n",
      "Total: 0 34705\n"
     ]
    }
   ],
   "source": [
    "# Total de mortos e feridos em acidentes com álcool\n",
    "print(tabela['mortos'].value_counts())\n",
    "print(f'Total: {0}',tabela['mortos'].value_counts().sum())"
   ]
  }
 ],
 "metadata": {
  "kernelspec": {
   "display_name": "mpdl",
   "language": "python",
   "name": "python3"
  },
  "language_info": {
   "codemirror_mode": {
    "name": "ipython",
    "version": 3
   },
   "file_extension": ".py",
   "mimetype": "text/x-python",
   "name": "python",
   "nbconvert_exporter": "python",
   "pygments_lexer": "ipython3",
   "version": "3.11.13"
  }
 },
 "nbformat": 4,
 "nbformat_minor": 5
}
